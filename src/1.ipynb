{
 "cells": [
  {
   "cell_type": "code",
   "execution_count": 2,
   "metadata": {},
   "outputs": [],
   "source": [
    "from dotenv import load_dotenv\n",
    "import os\n",
    "import pg8000\n",
    "import boto3\n",
    "from pathlib import Path\n",
    "import pyarrow.parquet as pq\n",
    "import io\n",
    "import logging\n",
    "import json\n",
    "from botocore.exceptions import ClientError"
   ]
  },
  {
   "cell_type": "code",
   "execution_count": 3,
   "metadata": {},
   "outputs": [],
   "source": [
    "def create_secret(secret, secret_identifier):\n",
    "    try:\n",
    "        print(\"here\")\n",
    "        secrets_manager = boto3.client('secretsmanager')\n",
    "        response = secrets_manager.create_secret(\n",
    "            Name=secret_identifier,\n",
    "            SecretString=json.dumps(secret)\n",
    "        )\n",
    "        #if secret is created send success message\n",
    "        print('done')\n",
    "        return \"Success\"\n",
    "    except secrets_manager.exceptions.ResourceExistsException:\n",
    "        #if name is taken return message\n",
    "        return \"Failure! Secret is taken\"\n",
    "    except Exception as e:\n",
    "        #other error return this\n",
    "        return {\"UNKNOWN ERROR\": e}\n",
    "\n"
   ]
  },
  {
   "cell_type": "code",
   "execution_count": 17,
   "metadata": {},
   "outputs": [],
   "source": [
    "def secrets_warehouse():\n",
    "\n",
    "    secret_identifier = 'cred_DW'\n",
    "    host = 'nc-data-eng-project-dw-prod.chpsczt8h1nu.eu-west-2.rds.amazonaws.com'\n",
    "    port =  5432\n",
    "    user = 'project_team_4'\n",
    "    password = '9Fy8qy8VsqTjuN'\n",
    "    database =  'postgres'\n",
    "    schema =  'project_team_4'\n",
    "\n",
    "    secret = {\n",
    "        'user': user,\n",
    "        'password': password,\n",
    "        'database': database,\n",
    "        'host':host,\n",
    "        'port':port,\n",
    "        'schema':schema\n",
    "\n",
    "    }\n",
    "\n",
    "    return secret, secret_identifier"
   ]
  },
  {
   "cell_type": "code",
   "execution_count": 18,
   "metadata": {},
   "outputs": [
    {
     "name": "stdout",
     "output_type": "stream",
     "text": [
      "here\n",
      "Failure! Secret is taken\n"
     ]
    }
   ],
   "source": [
    "def entry():\n",
    "    secret, secret_id = secrets_warehouse()   \n",
    "    return create_secret(secret, secret_id)  \n",
    "\n",
    "print(entry())\n"
   ]
  },
  {
   "cell_type": "code",
   "execution_count": 21,
   "metadata": {},
   "outputs": [],
   "source": [
    "\n",
    "def pull_secrets(secret_id):     \n",
    "    secrets_manager = boto3.client('secretsmanager')\n",
    "\n",
    "    try:               \n",
    "        response = secrets_manager.get_secret_value(SecretId=secret_id)  \n",
    "\n",
    "    except ClientError as e:            \n",
    "        error_code = e.response['Error']['Code']\n",
    "\n",
    "        print(error_code)\n",
    "        if error_code == 'ResourceNotFoundException':            \n",
    "            raise Exception(f'ERROR: name not found') \n",
    "        else:           \n",
    "            raise Exception(f'ERROR : {error_code}')\n",
    "    else:\n",
    "        secrets = json.loads(response['SecretString'])\n",
    "        details = {\n",
    "        'user': secrets['user'],\n",
    "        'password': secrets['password'],\n",
    "        'database': secrets['database'],\n",
    "        'host':secrets['host'],\n",
    "        'port':secrets['port'],\n",
    "        'schema': secrets['schema']\n",
    "        }\n",
    "        return details\n"
   ]
  },
  {
   "cell_type": "code",
   "execution_count": 22,
   "metadata": {},
   "outputs": [
    {
     "name": "stdout",
     "output_type": "stream",
     "text": [
      "{'user': 'project_team_4', 'password': '9Fy8qy8VsqTjuN', 'database': 'postgres', 'host': 'nc-data-eng-project-dw-prod.chpsczt8h1nu.eu-west-2.rds.amazonaws.com', 'port': 5432, 'schema': 'project_team_4'}\n"
     ]
    }
   ],
   "source": [
    "print(pull_secrets('cred_DW'))"
   ]
  },
  {
   "cell_type": "code",
   "execution_count": 23,
   "metadata": {},
   "outputs": [],
   "source": [
    "def make_warehouse_connection(secret_id):\n",
    "    try:\n",
    "        details = pull_secrets(secret_id)\n",
    "        API_HOST = details['host']\n",
    "        API_USER = details['user']\n",
    "        API_PASS = details[\"password\"]\n",
    "        API_DBASE = details[\"database\"]\n",
    "        conn = pg8000.connect(\n",
    "            host=API_HOST,\n",
    "            user=API_USER,\n",
    "            password=API_PASS,\n",
    "            database=API_DBASE\n",
    "        )\n",
    "        return conn\n",
    "    except Exception as e:\n",
    "        print(f\"Error connecting to the data warehouse: {str(e)}\")\n",
    "        return None"
   ]
  },
  {
   "cell_type": "code",
   "execution_count": 25,
   "metadata": {},
   "outputs": [
    {
     "name": "stdout",
     "output_type": "stream",
     "text": [
      "<pg8000.legacy.Connection object at 0x7f2f9bffcd90>\n"
     ]
    }
   ],
   "source": [
    "print(make_warehouse_connection('cred_DW'))"
   ]
  },
  {
   "cell_type": "code",
   "execution_count": null,
   "metadata": {},
   "outputs": [],
   "source": []
  }
 ],
 "metadata": {
  "kernelspec": {
   "display_name": "venv",
   "language": "python",
   "name": "python3"
  },
  "language_info": {
   "codemirror_mode": {
    "name": "ipython",
    "version": 3
   },
   "file_extension": ".py",
   "mimetype": "text/x-python",
   "name": "python",
   "nbconvert_exporter": "python",
   "pygments_lexer": "ipython3",
   "version": "3.9.7"
  },
  "orig_nbformat": 4
 },
 "nbformat": 4,
 "nbformat_minor": 2
}
